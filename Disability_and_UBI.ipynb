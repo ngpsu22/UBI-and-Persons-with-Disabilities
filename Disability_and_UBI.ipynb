{
  "nbformat": 4,
  "nbformat_minor": 0,
  "metadata": {
    "colab": {
      "name": "Disability and UBI",
      "provenance": []
    },
    "kernelspec": {
      "name": "python3",
      "display_name": "Python 3"
    }
  },
  "cells": [
    {
      "cell_type": "code",
      "metadata": {
        "id": "CzuurW6MaGQD",
        "colab_type": "code",
        "colab": {}
      },
      "source": [
        "!pip install git+https://github.com/maxghenis/microdf.git"
      ],
      "execution_count": null,
      "outputs": []
    },
    {
      "cell_type": "code",
      "metadata": {
        "id": "Dw-oV13lW6dW",
        "colab_type": "code",
        "colab": {}
      },
      "source": [
        "import pandas as pd\n",
        "import plotly.express as px\n",
        "import microdf as mdf\n",
        "import numpy as np"
      ],
      "execution_count": 270,
      "outputs": []
    },
    {
      "cell_type": "code",
      "metadata": {
        "id": "FxNVMGmTXPWN",
        "colab_type": "code",
        "colab": {}
      },
      "source": [
        "person_raw = pd.read_csv('https://github.com/MaxGhenis/datarepo/raw/master/pppub19.csv.gz',\n",
        "                         usecols={'MARSUPWT', 'SPM_ID', 'SPM_RESOURCES', 'SPM_POVTHRESHOLD',\n",
        "                         'A_AGE', 'PEDISDRS', 'PEDISEAR', 'PEDISEYE', 'PEDISOUT', 'PEDISPHY', 'PEDISREM'})"
      ],
      "execution_count": 271,
      "outputs": []
    },
    {
      "cell_type": "code",
      "metadata": {
        "id": "qyfMitaUXuMy",
        "colab_type": "code",
        "colab": {}
      },
      "source": [
        "person = person_raw.copy(deep = True) \n",
        "person.columns = person.columns.str.lower()\n",
        "person['weight'] = person.marsupwt / 100"
      ],
      "execution_count": 272,
      "outputs": []
    },
    {
      "cell_type": "code",
      "metadata": {
        "id": "NeCvAzvQXvcu",
        "colab_type": "code",
        "colab": {}
      },
      "source": [
        "del person['marsupwt']"
      ],
      "execution_count": 273,
      "outputs": []
    },
    {
      "cell_type": "code",
      "metadata": {
        "id": "WVlsvU18X1L6",
        "colab_type": "code",
        "colab": {}
      },
      "source": [
        "## find column that says # of people in SPM Unit\n",
        "## filter only adults\n",
        "\n",
        "person['child'] = person.a_age < 18\n",
        "person['adult'] = person.a_age >= 18\n",
        "ages = person.groupby('spm_id')[['child', 'adult']].sum() \n",
        "ages.columns = ['total_children', 'total_adults'] \n",
        "person = person.merge(ages, left_on='spm_id', right_index = True)\n",
        "person['total_people'] = person.total_adults + person.total_children\n",
        "person['disabled'] = (person.pedisdrs == 1) | (person.pedisear == 1) | (person.pediseye == 1) | (person.pedisout == 1) | (person.pedisphy == 1) | (person.pedisrem == 1)"
      ],
      "execution_count": 274,
      "outputs": []
    },
    {
      "cell_type": "code",
      "metadata": {
        "id": "o1_j0N3RZJTQ",
        "colab_type": "code",
        "colab": {
          "base_uri": "https://localhost:8080/",
          "height": 35
        },
        "outputId": "0825329e-eecf-468f-8dac-5f3884aea5ba"
      },
      "source": [
        "total_disabled = (person.weight * person.disabled).sum()\n",
        "total_disabled/1e6"
      ],
      "execution_count": 275,
      "outputs": [
        {
          "output_type": "execute_result",
          "data": {
            "text/plain": [
              "30.338139509999994"
            ]
          },
          "metadata": {
            "tags": []
          },
          "execution_count": 275
        }
      ]
    },
    {
      "cell_type": "code",
      "metadata": {
        "id": "4G7NwwueprBa",
        "colab_type": "code",
        "colab": {}
      },
      "source": [
        "columns_list = {'pedisdrs': 'Self-care', 'pedisear': 'Hearing', 'pediseye': 'Vision', 'pedisout': 'Mobility', 'pedisphy': 'Physical', 'pedisrem': 'Cognitive', 'disabled': 'Any'}"
      ],
      "execution_count": 276,
      "outputs": []
    },
    {
      "cell_type": "code",
      "metadata": {
        "id": "HyBtXwC6futz",
        "colab_type": "code",
        "colab": {}
      },
      "source": [
        "def disabled_pov(column, monthly_ubi=0):\n",
        "    \n",
        "    target_persons = person[person[column]==1].copy(deep=True)\n",
        "    target_persons['total_ubi'] = person.total_people * monthly_ubi * 12\n",
        "    target_persons['new_spm_resources'] = target_persons.total_ubi + target_persons.spm_resources\n",
        "    target_persons['poor'] = target_persons.new_spm_resources < target_persons.spm_povthreshold\n",
        "    population_target = target_persons.weight.sum()\n",
        "    total_target_poor = (target_persons.poor * target_persons.weight).sum()\n",
        "    total_pov_rate = total_target_poor / population_target\n",
        "\n",
        "    return (total_pov_rate * 100).round(3)\n",
        "\n",
        "def disabled_pov_row(row):\n",
        "    return disabled_pov(row.column, row.monthly_ubi)"
      ],
      "execution_count": 277,
      "outputs": []
    },
    {
      "cell_type": "code",
      "metadata": {
        "id": "tY8hbfjDdGnK",
        "colab_type": "code",
        "colab": {}
      },
      "source": [
        "summary = mdf.cartesian_product({'column':columns_list,\n",
        "                       'monthly_ubi': np.arange(0,1001,100)})\n",
        "\n",
        "summary['poverty_rate'] = summary.apply(disabled_pov_row, axis=1)\n",
        "pd.set_option(\"display.max_rows\", None, \"display.max_columns\", None)\n",
        "summary['disability_type'] = summary.column.map(columns_list)"
      ],
      "execution_count": null,
      "outputs": []
    },
    {
      "cell_type": "code",
      "metadata": {
        "id": "Vt77XBcZtpfv",
        "colab_type": "code",
        "colab": {}
      },
      "source": [
        "#TO DO\n",
        "\n",
        "# see if the numbers will auto display\n",
        "# colors are changing back to normal when bar is moved\n",
        "\n",
        "colors = ['darkblue', 'darkred', 'orange', 'mediumseagreen', 'gold', 'indianred']\n",
        "\n",
        "fig = px.bar(summary, x = 'disability_type', y='poverty_rate',\n",
        "             animation_frame='monthly_ubi', range_y=[0,25],\n",
        "             labels={\n",
        "                     \"poverty_rate\": \"SPM Poverty Rate\",\n",
        "                     \"disability_type\": \"Disability Type\",\n",
        "                     \"monthly_ubi\": \"Monthly UBI\"\n",
        "                 },\n",
        "                title=\"The effect of a UBI on poverty among people with disabilites\")\n",
        "fig.update_traces(marker_color=colors, opacity=1.0)\n",
        "\n",
        "fig.show()"
      ],
      "execution_count": null,
      "outputs": []
    }
  ]
}